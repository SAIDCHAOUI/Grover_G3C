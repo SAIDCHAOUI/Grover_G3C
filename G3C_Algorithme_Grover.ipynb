{
 "cells": [
  {
   "cell_type": "code",
   "execution_count": 1,
   "metadata": {},
   "outputs": [
    {
     "name": "stdout",
     "output_type": "stream",
     "text": [
      "{'11': 1}\n"
     ]
    },
    {
     "data": {
      "image/png": "[encoded data removed]",
      "text/plain": [
       "<Figure size 705.35x284.278 with 1 Axes>"
      ]
     },
     "execution_count": 1,
     "metadata": {},
     "output_type": "execute_result"
    }
   ],
   "source": [
    "from qiskit import QuantumCircuit, Aer, execute\n",
    "import matplotlib.pyplot as plt\n",
    "import numpy as np\n",
    "from qiskit.visualization import plot_histogram\n",
    "\n",
    "# Oracle du circuit de Grover\n",
    "oracle = QuantumCircuit(2, name='oracle')\n",
    "oracle.cz(0, 1)\n",
    "\n",
    "\"\"\"Cette partie crée un circuit quantique appelé \"oracle\" pour l'algorithme de Grover. \n",
    "Il utilise une porte CZ (Controlled-Z) pour appliquer une phase de -1 aux états où les \n",
    "qubits 0 et 1 sont tous les deux en |1⟩.\"\"\"\n",
    "\n",
    "\n",
    "# Réflexion sur la moyenne\n",
    "reflexion=QuantumCircuit(2, name='reflexion')\n",
    "reflexion.h([0, 1])\n",
    "reflexion.z([0, 1])\n",
    "reflexion.cz(0, 1)\n",
    "reflexion.h([0, 1])\n",
    "\n",
    "\"\"\"Cette partie crée un autre circuit quantique appelé \"réflexion\"(ou le diffuseur) pour l'algorithme de Grover. \n",
    "Il applique les opérations suivantes :\n",
    "1. Une porte Hadamard (H) pour mettre les qubits 0 et 1 dans un état superposé.\n",
    "2. Une porte Z pour appliquer une phase de -1 à chaque état.\n",
    "3. Une porte CZ (Controlled-Z) pour appliquer une phase de -1 aux états où les qubits 0 et 1 \n",
    "sont tous les deux en |1⟩.\n",
    "4. Une autre porte Hadamard (H) pour revenir à l'état d'origine.\"\"\"\n",
    "\n",
    "\n",
    "# Back-end de simulation\n",
    "backend = Aer.get_backend('qasm_simulator')\n",
    "\n",
    "\"\"\"Cette partie spécifie le backend (la machine sur laquelle le circuit quantique sera exécuté) \n",
    "en utilisant le simulateur QASM d'Aer.\"\"\"\n",
    "\n",
    "# Circuit de Grover\n",
    "grover = QuantumCircuit(2, 2)\n",
    "grover.h([0, 1])\n",
    "grover.append(oracle, [0, 1])\n",
    "grover.append(reflexion, [0, 1])\n",
    "grover.measure([0, 1], [0, 1])\n",
    "\n",
    "\"\"\"Cette partie crée le circuit de Grover lui-même avec 2 qubits et 2 bits classiques. \n",
    "Les opérations suivantes sont appliquées :\n",
    "1. Une porte Hadamard (H) pour mettre les qubits 0 et 1 dans un état superposé.\n",
    "2. L'ajout du circuit \"oracle\" créé précédemment en utilisant la fonction append.\n",
    "3. L'ajout du circuit \"réflexion\" créé précédemment en utilisant la fonction append.\n",
    "4. Une mesure des qubits 0 et 1 pour obtenir les résultats classiques correspondants.\"\"\"\n",
    "\n",
    "# Exécution du circuit\n",
    "job = execute(grover, backend, shots=1)\n",
    "result = job.result()\n",
    "counts=result.get_counts()\n",
    "print(counts)\n",
    "\n",
    "\"\"\"Cette partie exécute le circuit de Grover en utilisant la fonction execute. \n",
    "Le résultat est ensuite récupéré à l'aide de la méthode result, et les résultats \n",
    "des mesures sont extraits à l'aide de la méthode get_counts. \n",
    "Ensuite, les résultats sont affichés à l'aide de la fonction print.\"\"\"\n",
    "\n",
    "# Affichage du circuit\n",
    "grover.draw(output='mpl')"
   ]
  }
 ],
 "metadata": {
  "kernelspec": {
   "display_name": "Python 3",
   "language": "python",
   "name": "python3"
  },
  "language_info": {
   "codemirror_mode": {
    "name": "ipython",
    "version": 3
   },
   "file_extension": ".py",
   "mimetype": "text/x-python",
   "name": "python",
   "nbconvert_exporter": "python",
   "pygments_lexer": "ipython3",
   "version": "3.11.3"
  },
  "orig_nbformat": 4
 },
 "nbformat": 4,
 "nbformat_minor": 2
}
